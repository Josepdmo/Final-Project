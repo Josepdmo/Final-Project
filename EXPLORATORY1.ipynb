{
 "cells": [
  {
   "cell_type": "code",
   "execution_count": 1,
   "metadata": {},
   "outputs": [],
   "source": [
    "import pandas as pd \n",
    "from collections import Counter\n",
    "\n",
    "\n"
   ]
  },
  {
   "cell_type": "code",
   "execution_count": 2,
   "metadata": {},
   "outputs": [
    {
     "name": "stdout",
     "output_type": "stream",
     "text": [
      "             Genre  Count\n",
      "4          fiction   9815\n",
      "3          fantasy   4109\n",
      "56         romance   3091\n",
      "9         classics   2944\n",
      "1      young adult   2831\n",
      "..             ...    ...\n",
      "625       biblical      1\n",
      "516  librarianship      1\n",
      "285    ivory coast      1\n",
      "621         trains      1\n",
      "728        asexual      1\n",
      "\n",
      "[729 rows x 2 columns]\n"
     ]
    }
   ],
   "source": [
    "import pandas as pd\n",
    "from collections import Counter\n",
    "\n",
    "# Cargar el DataFrame\n",
    "genres_df = pd.read_csv('/Users/pepdemartiolius/Documents/GitHub/Final-Project/Data/Genres.csv')\n",
    "\n",
    "# Asegurarse de que todos los valores en la columna 'genre' sean cadenas, y manejar NaN\n",
    "genres_df['genre'] = genres_df['genre'].fillna('').astype(str)\n",
    "\n",
    "# Convertir la columna 'genre' en listas y limpiar los valores\n",
    "genres_df['genre'] = genres_df['genre'].apply(lambda x: [g.strip().lower().replace(\"'\", \"\").replace(\"[\", \"\").replace(\"]\", \"\") for g in x.split(',')])\n",
    "\n",
    "# Contar la aparición de cada género en todas las listas\n",
    "genre_counter = Counter()\n",
    "\n",
    "# Iterar sobre cada fila y contar los géneros\n",
    "for genres in genres_df['genre']:\n",
    "    unique_genres = set(genres)  # Convertir la lista a un conjunto para asegurar que cada género se cuenta una vez por libro\n",
    "    genre_counter.update(unique_genres)\n",
    "\n",
    "# Convertir el contador a un DataFrame para una mejor visualización\n",
    "genre_counts_df = pd.DataFrame(genre_counter.items(), columns=['Genre', 'Count'])\n",
    "\n",
    "# Ordenar el DataFrame por la cuenta en orden descendente\n",
    "genre_counts_df = genre_counts_df.sort_values(by='Count', ascending=False)\n",
    "\n",
    "# Mostrar los resultados\n",
    "print(genre_counts_df)\n"
   ]
  }
 ],
 "metadata": {
  "kernelspec": {
   "display_name": "base",
   "language": "python",
   "name": "python3"
  },
  "language_info": {
   "codemirror_mode": {
    "name": "ipython",
    "version": 3
   },
   "file_extension": ".py",
   "mimetype": "text/x-python",
   "name": "python",
   "nbconvert_exporter": "python",
   "pygments_lexer": "ipython3",
   "version": "3.11.7"
  }
 },
 "nbformat": 4,
 "nbformat_minor": 2
}
